{
 "cells": [
  {
   "cell_type": "code",
   "execution_count": 1,
   "id": "b5584a86",
   "metadata": {},
   "outputs": [
    {
     "name": "stdout",
     "output_type": "stream",
     "text": [
      "Looking in indexes: https://pypi.tuna.tsinghua.edu.cn/simpleNote: you may need to restart the kernel to use updated packages.\n",
      "Requirement already satisfied: lightgbm in c:\\users\\fractures\\anaconda3\\lib\\site-packages (3.3.3)\n",
      "Requirement already satisfied: scikit-learn!=0.22.0 in c:\\users\\fractures\\anaconda3\\lib\\site-packages (from lightgbm) (0.24.1)\n",
      "Requirement already satisfied: wheel in c:\\users\\fractures\\anaconda3\\lib\\site-packages (from lightgbm) (0.36.2)\n",
      "Requirement already satisfied: scipy in c:\\users\\fractures\\anaconda3\\lib\\site-packages (from lightgbm) (1.6.2)\n",
      "Requirement already satisfied: numpy in c:\\users\\fractures\\anaconda3\\lib\\site-packages (from lightgbm) (1.20.1)\n",
      "Requirement already satisfied: joblib>=0.11 in c:\\users\\fractures\\anaconda3\\lib\\site-packages (from scikit-learn!=0.22.0->lightgbm) (1.0.1)\n",
      "Requirement already satisfied: threadpoolctl>=2.0.0 in c:\\users\\fractures\\anaconda3\\lib\\site-packages (from scikit-learn!=0.22.0->lightgbm) (2.1.0)\n",
      "\n"
     ]
    }
   ],
   "source": [
    "pip install lightgbm"
   ]
  },
  {
   "cell_type": "code",
   "execution_count": 2,
   "id": "6c20a6aa",
   "metadata": {},
   "outputs": [
    {
     "name": "stdout",
     "output_type": "stream",
     "text": [
      "Looking in indexes: https://pypi.tuna.tsinghua.edu.cn/simple\n",
      "Requirement already satisfied: xgboost in c:\\users\\fractures\\anaconda3\\lib\\site-packages (1.7.2)\n",
      "Requirement already satisfied: scipy in c:\\users\\fractures\\anaconda3\\lib\\site-packages (from xgboost) (1.6.2)\n",
      "Requirement already satisfied: numpy in c:\\users\\fractures\\anaconda3\\lib\\site-packages (from xgboost) (1.20.1)\n",
      "Note: you may need to restart the kernel to use updated packages.\n"
     ]
    }
   ],
   "source": [
    "pip install xgboost"
   ]
  },
  {
   "cell_type": "code",
   "execution_count": 3,
   "id": "a695f22d",
   "metadata": {},
   "outputs": [],
   "source": [
    "import pandas as pd\n",
    "import numpy as np\n",
    "from sklearn import metrics\n",
    "import matplotlib.pyplot as plt\n",
    "from sklearn.metrics import roc_auc_score, roc_curve, mean_squared_error,mean_absolute_error, f1_score\n",
    "import lightgbm as lgb\n",
    "import xgboost as xgb\n",
    "from sklearn.ensemble import RandomForestRegressor as rfr\n",
    "from sklearn.linear_model import LinearRegression as lr\n",
    "from sklearn.model_selection import  KFold, StratifiedKFold,GroupKFold, RepeatedKFold\n",
    "import warnings\n",
    "import seaborn as sns\n",
    "warnings.filterwarnings('ignore') #消除warning"
   ]
  },
  {
   "cell_type": "code",
   "execution_count": 4,
   "id": "3530aa8c",
   "metadata": {},
   "outputs": [
    {
     "name": "stdout",
     "output_type": "stream",
     "text": [
      "(800000, 47)\n",
      "(200000, 46)\n"
     ]
    }
   ],
   "source": [
    "train_data = pd.read_csv(\"train.csv\")\n",
    "test_data = pd.read_csv(\"testA.csv\")\n",
    "print(train_data.shape)\n",
    "print(test_data.shape)\n"
   ]
  },
  {
   "cell_type": "code",
   "execution_count": 5,
   "id": "9e827b56",
   "metadata": {},
   "outputs": [
    {
     "data": {
      "text/plain": [
       "(1000000, 47)"
      ]
     },
     "execution_count": 5,
     "metadata": {},
     "output_type": "execute_result"
    }
   ],
   "source": [
    "#由于等下需要对特征进行变化，因此我先将训练集和测试集堆叠在一起，一起处理才方便，再加入一列作为区分即可\n",
    "target = train_data[\"isDefault\"]\n",
    "train_data[\"origin\"] = \"train\"\n",
    "test_data[\"origin\"] = \"test\"\n",
    "del train_data[\"isDefault\"]\n",
    "\n",
    "data = pd.concat([train_data, test_data], axis = 0, ignore_index = True)\n",
    "data.shape\n"
   ]
  },
  {
   "cell_type": "code",
   "execution_count": 6,
   "id": "eec699b0",
   "metadata": {},
   "outputs": [
    {
     "name": "stdout",
     "output_type": "stream",
     "text": [
      "<class 'pandas.core.frame.DataFrame'>\n",
      "RangeIndex: 1000000 entries, 0 to 999999\n",
      "Data columns (total 47 columns):\n",
      " #   Column              Non-Null Count    Dtype  \n",
      "---  ------              --------------    -----  \n",
      " 0   id                  1000000 non-null  int64  \n",
      " 1   loanAmnt            1000000 non-null  float64\n",
      " 2   term                1000000 non-null  int64  \n",
      " 3   interestRate        1000000 non-null  float64\n",
      " 4   installment         1000000 non-null  float64\n",
      " 5   grade               1000000 non-null  object \n",
      " 6   subGrade            1000000 non-null  object \n",
      " 7   employmentTitle     999999 non-null   float64\n",
      " 8   employmentLength    941459 non-null   object \n",
      " 9   homeOwnership       1000000 non-null  int64  \n",
      " 10  annualIncome        1000000 non-null  float64\n",
      " 11  verificationStatus  1000000 non-null  int64  \n",
      " 12  issueDate           1000000 non-null  object \n",
      " 13  purpose             1000000 non-null  int64  \n",
      " 14  postCode            999999 non-null   float64\n",
      " 15  regionCode          1000000 non-null  int64  \n",
      " 16  dti                 999700 non-null   float64\n",
      " 17  delinquency_2years  1000000 non-null  float64\n",
      " 18  ficoRangeLow        1000000 non-null  float64\n",
      " 19  ficoRangeHigh       1000000 non-null  float64\n",
      " 20  openAcc             1000000 non-null  float64\n",
      " 21  pubRec              1000000 non-null  float64\n",
      " 22  pubRecBankruptcies  999479 non-null   float64\n",
      " 23  revolBal            1000000 non-null  float64\n",
      " 24  revolUtil           999342 non-null   float64\n",
      " 25  totalAcc            1000000 non-null  float64\n",
      " 26  initialListStatus   1000000 non-null  int64  \n",
      " 27  applicationType     1000000 non-null  int64  \n",
      " 28  earliesCreditLine   1000000 non-null  object \n",
      " 29  title               999999 non-null   float64\n",
      " 30  policyCode          1000000 non-null  float64\n",
      " 31  n0                  949619 non-null   float64\n",
      " 32  n1                  949619 non-null   float64\n",
      " 33  n2                  949619 non-null   float64\n",
      " 34  n3                  949619 non-null   float64\n",
      " 35  n4                  958367 non-null   float64\n",
      " 36  n5                  949619 non-null   float64\n",
      " 37  n6                  949619 non-null   float64\n",
      " 38  n7                  949619 non-null   float64\n",
      " 39  n8                  949618 non-null   float64\n",
      " 40  n9                  949619 non-null   float64\n",
      " 41  n10                 958367 non-null   float64\n",
      " 42  n11                 912673 non-null   float64\n",
      " 43  n12                 949619 non-null   float64\n",
      " 44  n13                 949619 non-null   float64\n",
      " 45  n14                 949619 non-null   float64\n",
      " 46  origin              1000000 non-null  object \n",
      "dtypes: float64(33), int64(8), object(6)\n",
      "memory usage: 358.6+ MB\n"
     ]
    }
   ],
   "source": [
    "#那么接下来就是对data进行处理，可以先看看其大致的信息：\n",
    "data.info()\n"
   ]
  },
  {
   "cell_type": "code",
   "execution_count": 7,
   "id": "b7b582b5",
   "metadata": {},
   "outputs": [
    {
     "data": {
      "text/plain": [
       "[Text(0, 0, 'employmentTitle'),\n",
       " Text(1, 0, 'postCode'),\n",
       " Text(2, 0, 'title'),\n",
       " Text(3, 0, 'dti'),\n",
       " Text(4, 0, 'pubRecBankruptcies'),\n",
       " Text(5, 0, 'revolUtil'),\n",
       " Text(6, 0, 'n10'),\n",
       " Text(7, 0, 'n4'),\n",
       " Text(8, 0, 'n12'),\n",
       " Text(9, 0, 'n9'),\n",
       " Text(10, 0, 'n7'),\n",
       " Text(11, 0, 'n6'),\n",
       " Text(12, 0, 'n3'),\n",
       " Text(13, 0, 'n13'),\n",
       " Text(14, 0, 'n2'),\n",
       " Text(15, 0, 'n1'),\n",
       " Text(16, 0, 'n0'),\n",
       " Text(17, 0, 'n5'),\n",
       " Text(18, 0, 'n14'),\n",
       " Text(19, 0, 'n8'),\n",
       " Text(20, 0, 'employmentLength'),\n",
       " Text(21, 0, 'n11')]"
      ]
     },
     "execution_count": 7,
     "metadata": {},
     "output_type": "execute_result"
    },
    {
     "data": {
      "image/png": "[encoded data removed]",
      "text/plain": [
       "<Figure size 432x288 with 1 Axes>"
      ]
     },
     "metadata": {
      "needs_background": "light"
     },
     "output_type": "display_data"
    }
   ],
   "source": [
    "#最重要的是对缺失值和异常值的处理，那么来看看哪些特征的缺失值和异常值最多：\n",
    "missing = data.isnull().sum() / len(data)\n",
    "missing = missing[missing > 0 ]\n",
    "missing.sort_values(inplace = True)#排序并替换原来的数据\n",
    "x = np.arange(len(missing))\n",
    "fig, ax = plt.subplots()#创建多维窗口\n",
    "ax.bar(x,missing)#绘制竖状条形图\n",
    "ax.set_xticks(x)#设置刻度\n",
    "ax.set_xticklabels(list(missing.index), rotation = 90, fontsize = \"small\")\n"
   ]
  },
  {
   "cell_type": "code",
   "execution_count": 8,
   "id": "9c023762",
   "metadata": {},
   "outputs": [
    {
     "name": "stdout",
     "output_type": "stream",
     "text": [
      "['A', 'B', 'C', 'D', 'E', 'F', 'G']\n",
      "['A1', 'A2', 'A3', 'A4', 'A5', 'B1', 'B2', 'B3', 'B4', 'B5', 'C1', 'C2', 'C3', 'C4', 'C5', 'D1', 'D2', 'D3', 'D4', 'D5', 'E1', 'E2', 'E3', 'E4', 'E5', 'F1', 'F2', 'F3', 'F4', 'F5', 'G1', 'G2', 'G3', 'G4', 'G5']\n"
     ]
    }
   ],
   "source": [
    "print(sorted(data['grade'].unique()))\n",
    "print(sorted(data['subGrade'].unique()))\n"
   ]
  },
  {
   "cell_type": "code",
   "execution_count": 9,
   "id": "0629cd96",
   "metadata": {},
   "outputs": [
    {
     "data": {
      "text/plain": [
       "1 year        65671\n",
       "10+ years    328525\n",
       "2 years       90565\n",
       "3 years       80163\n",
       "4 years       59818\n",
       "5 years       62645\n",
       "6 years       46582\n",
       "7 years       44230\n",
       "8 years       45168\n",
       "9 years       37866\n",
       "< 1 year      80226\n",
       "NaN           58541\n",
       "Name: employmentLength, dtype: int64"
      ]
     },
     "execution_count": 9,
     "metadata": {},
     "output_type": "execute_result"
    }
   ],
   "source": [
    "data['employmentLength'].value_counts(dropna=False).sort_index()\n"
   ]
  },
  {
   "cell_type": "code",
   "execution_count": 10,
   "id": "33cd7d35",
   "metadata": {},
   "outputs": [],
   "source": [
    "# 对employmentLength该列进行处理\n",
    "data[\"employmentLength\"].replace(to_replace=\"10+ years\", value = \"10 years\",\n",
    "                                      inplace = True)\n",
    "data[\"employmentLength\"].replace(to_replace=\"< 1 year\", value = \"0 years\",\n",
    "                                      inplace = True)\n",
    "def employmentLength_to_int(s):\n",
    "    if pd.isnull(s):\n",
    "        return s # 如果是nan还是nan\n",
    "    else:\n",
    "        return np.int8(s.split()[0])  # 按照空格分隔得到第一个字符\n",
    "    \n",
    "data[\"employmentLength\"] = data[\"employmentLength\"].apply(employmentLength_to_int)\n"
   ]
  },
  {
   "cell_type": "code",
   "execution_count": 11,
   "id": "2f4c0308",
   "metadata": {},
   "outputs": [
    {
     "data": {
      "text/plain": [
       "0          2.0\n",
       "1          5.0\n",
       "2          8.0\n",
       "3         10.0\n",
       "4          NaN\n",
       "          ... \n",
       "999995     7.0\n",
       "999996     1.0\n",
       "999997     8.0\n",
       "999998     4.0\n",
       "999999     7.0\n",
       "Name: employmentLength, Length: 1000000, dtype: float64"
      ]
     },
     "execution_count": 11,
     "metadata": {},
     "output_type": "execute_result"
    }
   ],
   "source": [
    "data[\"employmentLength\"]"
   ]
  },
  {
   "cell_type": "code",
   "execution_count": 12,
   "id": "ffe2b549",
   "metadata": {},
   "outputs": [
    {
     "data": {
      "text/plain": [
       "175048    Dec-2004\n",
       "258180    Oct-2000\n",
       "204889    Jan-1990\n",
       "544186    Nov-2004\n",
       "654307    Apr-2000\n",
       "Name: earliesCreditLine, dtype: object"
      ]
     },
     "execution_count": 12,
     "metadata": {},
     "output_type": "execute_result"
    }
   ],
   "source": [
    "data['earliesCreditLine'].sample(5)\n"
   ]
  },
  {
   "cell_type": "code",
   "execution_count": 13,
   "id": "f8208a7c",
   "metadata": {},
   "outputs": [],
   "source": [
    "data[\"earliesCreditLine\"] = data[\"earliesCreditLine\"].apply(lambda x:int(x[-4:]))\n"
   ]
  },
  {
   "cell_type": "code",
   "execution_count": 14,
   "id": "a8cf7407",
   "metadata": {},
   "outputs": [
    {
     "data": {
      "text/plain": [
       "1944        2\n",
       "1945        1\n",
       "1946        2\n",
       "1949        1\n",
       "1950        7\n",
       "        ...  \n",
       "2011    12282\n",
       "2012     8304\n",
       "2013     4375\n",
       "2014     1863\n",
       "2015      251\n",
       "Name: earliesCreditLine, Length: 70, dtype: int64"
      ]
     },
     "execution_count": 14,
     "metadata": {},
     "output_type": "execute_result"
    }
   ],
   "source": [
    "data['earliesCreditLine'].value_counts(dropna=False).sort_index()\n"
   ]
  },
  {
   "cell_type": "code",
   "execution_count": 15,
   "id": "33aeb262",
   "metadata": {},
   "outputs": [
    {
     "name": "stdout",
     "output_type": "stream",
     "text": [
      "grade  类型数目为： 7\n",
      "subGrade  类型数目为： 35\n",
      "employmentTitle  类型数目为： 298101\n",
      "homeOwnership  类型数目为： 6\n",
      "verificationStatus  类型数目为： 3\n",
      "purpose  类型数目为： 14\n",
      "postCode  类型数目为： 935\n",
      "regionCode  类型数目为： 51\n",
      "applicationType  类型数目为： 2\n",
      "initialListStatus  类型数目为： 2\n",
      "title  类型数目为： 47903\n",
      "policyCode  类型数目为： 1\n"
     ]
    }
   ],
   "source": [
    "cate_features = [\"grade\",\n",
    "                \"subGrade\",\n",
    "                \"employmentTitle\",\n",
    "                \"homeOwnership\",\n",
    "                \"verificationStatus\",\n",
    "                \"purpose\",\n",
    "                \"postCode\",\n",
    "                \"regionCode\",\n",
    "                \"applicationType\",\n",
    "                \"initialListStatus\",\n",
    "                \"title\",\n",
    "                \"policyCode\"]\n",
    "for fea in cate_features:\n",
    "    print(fea, \" 类型数目为：\", data[fea].nunique())\n"
   ]
  },
  {
   "cell_type": "code",
   "execution_count": 16,
   "id": "d7ce74fb",
   "metadata": {},
   "outputs": [],
   "source": [
    "data = pd.get_dummies(data, columns = ['grade', 'subGrade', \n",
    "                                             'homeOwnership', 'verificationStatus', \n",
    "                                             'purpose', 'regionCode'],\n",
    "                     drop_first = True)\n",
    "# drop_first就是k个类别，我只用k-1个来表示，那个没有表示出来的类别就是全0\n"
   ]
  },
  {
   "cell_type": "code",
   "execution_count": 17,
   "id": "e8ca7f7f",
   "metadata": {},
   "outputs": [],
   "source": [
    "# 高维类别特征需要进行转换\n",
    "for f in ['employmentTitle', 'postCode', 'title']:\n",
    "    data[f+'_cnts'] = data.groupby([f])['id'].transform('count')\n",
    "    data[f+'_rank'] = data.groupby([f])['id'].rank(ascending=False).astype(int)\n",
    "    del data[f]\n",
    "    \n",
    "# cnts的意思就是：对f特征的每一个取值进行计数，例如取值A有3个，B有5个，C有7个\n",
    "# 那么那些f特征取值为A的，在cnt中就是取值为3，B的就是5，C的就是7\n",
    "# 而rank就是对取值为A的三个排序123，对B的排12345，C的排1234567，各个取值内部排序\n",
    "# 然后ascending=False就是从后面开始给，最后一个取值为A的给1，倒数第二个给2，倒数第三个给3\n"
   ]
  },
  {
   "cell_type": "code",
   "execution_count": 18,
   "id": "7cad5349",
   "metadata": {},
   "outputs": [
    {
     "data": {
      "text/plain": [
       "(1000000, 154)"
      ]
     },
     "execution_count": 18,
     "metadata": {},
     "output_type": "execute_result"
    }
   ],
   "source": [
    "data.shape\n"
   ]
  },
  {
   "cell_type": "code",
   "execution_count": 19,
   "id": "d0ee1172",
   "metadata": {},
   "outputs": [],
   "source": [
    "train = data[data[\"origin\"] == \"train\"].reset_index(drop=True)\n",
    "test = data[data[\"origin\"] == \"test\"].reset_index(drop=True)\n",
    "features = [f for f in data.columns if f not in ['id','issueDate','isDefault',\"origin\"]]  # 这些特征不用参与训练\n",
    "x_train = train[features]\n",
    "y_train = target\n",
    "x_test = test[features]\n"
   ]
  },
  {
   "cell_type": "code",
   "execution_count": 20,
   "id": "af34f07f",
   "metadata": {},
   "outputs": [
    {
     "name": "stdout",
     "output_type": "stream",
     "text": [
      "当前第1折\n",
      "[LightGBM] [Warning] num_threads is set with nthread=28, will be overridden by n_jobs=24. Current value: num_threads=24\n",
      "[LightGBM] [Warning] verbosity is set=1, verbose=-1 will be ignored. Current value: verbosity=1\n",
      "[LightGBM] [Warning] num_threads is set with nthread=28, will be overridden by n_jobs=24. Current value: num_threads=24\n",
      "[LightGBM] [Warning] verbosity is set=1, verbose=-1 will be ignored. Current value: verbosity=1\n",
      "[LightGBM] [Info] Number of positive: 127688, number of negative: 512312\n",
      "[LightGBM] [Warning] Auto-choosing col-wise multi-threading, the overhead of testing was 0.634180 seconds.\n",
      "You can set `force_col_wise=true` to remove the overhead.\n",
      "[LightGBM] [Info] Total Bins 4407\n",
      "[LightGBM] [Info] Number of data points in the train set: 640000, number of used features: 149\n",
      "[LightGBM] [Warning] num_threads is set with nthread=28, will be overridden by n_jobs=24. Current value: num_threads=24\n",
      "[LightGBM] [Warning] verbosity is set=1, verbose=-1 will be ignored. Current value: verbosity=1\n",
      "[LightGBM] [Info] [binary:BoostFromScore]: pavg=0.199513 -> initscore=-1.389344\n",
      "[LightGBM] [Info] Start training from score -1.389344\n",
      "Training until validation scores don't improve for 800 rounds\n",
      "[500]\ttraining's auc: 0.761773\tvalid_1's auc: 0.729573\n",
      "[1000]\ttraining's auc: 0.786534\tvalid_1's auc: 0.729405\n",
      "Early stopping, best iteration is:\n",
      "[660]\ttraining's auc: 0.770174\tvalid_1's auc: 0.729787\n"
     ]
    },
    {
     "ename": "TypeError",
     "evalue": "Cannot use Dataset instance for prediction, please use raw data instead",
     "output_type": "error",
     "traceback": [
      "\u001b[1;31m---------------------------------------------------------------------------\u001b[0m",
      "\u001b[1;31mTypeError\u001b[0m                                 Traceback (most recent call last)",
      "\u001b[1;32m<ipython-input-20-15b5c69de8cf>\u001b[0m in \u001b[0;36m<module>\u001b[1;34m\u001b[0m\n\u001b[0;32m     28\u001b[0m                         \u001b[0mvalid_sets\u001b[0m\u001b[1;33m=\u001b[0m\u001b[1;33m[\u001b[0m\u001b[0mtrain_data_now\u001b[0m\u001b[1;33m,\u001b[0m \u001b[0mvalid_data_now\u001b[0m\u001b[1;33m]\u001b[0m\u001b[1;33m,\u001b[0m \u001b[0mverbose_eval\u001b[0m\u001b[1;33m=\u001b[0m\u001b[1;36m500\u001b[0m\u001b[1;33m,\u001b[0m\u001b[1;33m\u001b[0m\u001b[1;33m\u001b[0m\u001b[0m\n\u001b[0;32m     29\u001b[0m                        early_stopping_rounds = 800)\n\u001b[1;32m---> 30\u001b[1;33m     valid_lgb[valid_idx] = lgb_model.predict(lgb.Dataset(x_train.iloc[valid_idx]),\n\u001b[0m\u001b[0;32m     31\u001b[0m                                            ntree_limit = lgb_model.best_iteration)\n\u001b[0;32m     32\u001b[0m     predict_lgb += lgb_model.predict(lgb.Dataset(x_test), num_iteration=\n",
      "\u001b[1;32m~\\anaconda3\\lib\\site-packages\\lightgbm\\basic.py\u001b[0m in \u001b[0;36mpredict\u001b[1;34m(self, data, start_iteration, num_iteration, raw_score, pred_leaf, pred_contrib, data_has_header, is_reshape, **kwargs)\u001b[0m\n\u001b[0;32m   3536\u001b[0m             \u001b[1;32melse\u001b[0m\u001b[1;33m:\u001b[0m\u001b[1;33m\u001b[0m\u001b[1;33m\u001b[0m\u001b[0m\n\u001b[0;32m   3537\u001b[0m                 \u001b[0mnum_iteration\u001b[0m \u001b[1;33m=\u001b[0m \u001b[1;33m-\u001b[0m\u001b[1;36m1\u001b[0m\u001b[1;33m\u001b[0m\u001b[1;33m\u001b[0m\u001b[0m\n\u001b[1;32m-> 3538\u001b[1;33m         return predictor.predict(data, start_iteration, num_iteration,\n\u001b[0m\u001b[0;32m   3539\u001b[0m                                  \u001b[0mraw_score\u001b[0m\u001b[1;33m,\u001b[0m \u001b[0mpred_leaf\u001b[0m\u001b[1;33m,\u001b[0m \u001b[0mpred_contrib\u001b[0m\u001b[1;33m,\u001b[0m\u001b[1;33m\u001b[0m\u001b[1;33m\u001b[0m\u001b[0m\n\u001b[0;32m   3540\u001b[0m                                  data_has_header, is_reshape)\n",
      "\u001b[1;32m~\\anaconda3\\lib\\site-packages\\lightgbm\\basic.py\u001b[0m in \u001b[0;36mpredict\u001b[1;34m(self, data, start_iteration, num_iteration, raw_score, pred_leaf, pred_contrib, data_has_header, is_reshape)\u001b[0m\n\u001b[0;32m    817\u001b[0m         \"\"\"\n\u001b[0;32m    818\u001b[0m         \u001b[1;32mif\u001b[0m \u001b[0misinstance\u001b[0m\u001b[1;33m(\u001b[0m\u001b[0mdata\u001b[0m\u001b[1;33m,\u001b[0m \u001b[0mDataset\u001b[0m\u001b[1;33m)\u001b[0m\u001b[1;33m:\u001b[0m\u001b[1;33m\u001b[0m\u001b[1;33m\u001b[0m\u001b[0m\n\u001b[1;32m--> 819\u001b[1;33m             \u001b[1;32mraise\u001b[0m \u001b[0mTypeError\u001b[0m\u001b[1;33m(\u001b[0m\u001b[1;34m\"Cannot use Dataset instance for prediction, please use raw data instead\"\u001b[0m\u001b[1;33m)\u001b[0m\u001b[1;33m\u001b[0m\u001b[1;33m\u001b[0m\u001b[0m\n\u001b[0m\u001b[0;32m    820\u001b[0m         \u001b[0mdata\u001b[0m \u001b[1;33m=\u001b[0m \u001b[0m_data_from_pandas\u001b[0m\u001b[1;33m(\u001b[0m\u001b[0mdata\u001b[0m\u001b[1;33m,\u001b[0m \u001b[1;32mNone\u001b[0m\u001b[1;33m,\u001b[0m \u001b[1;32mNone\u001b[0m\u001b[1;33m,\u001b[0m \u001b[0mself\u001b[0m\u001b[1;33m.\u001b[0m\u001b[0mpandas_categorical\u001b[0m\u001b[1;33m)\u001b[0m\u001b[1;33m[\u001b[0m\u001b[1;36m0\u001b[0m\u001b[1;33m]\u001b[0m\u001b[1;33m\u001b[0m\u001b[1;33m\u001b[0m\u001b[0m\n\u001b[0;32m    821\u001b[0m         \u001b[0mpredict_type\u001b[0m \u001b[1;33m=\u001b[0m \u001b[0mC_API_PREDICT_NORMAL\u001b[0m\u001b[1;33m\u001b[0m\u001b[1;33m\u001b[0m\u001b[0m\n",
      "\u001b[1;31mTypeError\u001b[0m: Cannot use Dataset instance for prediction, please use raw data instead"
     ]
    }
   ],
   "source": [
    "lgb_params = {\n",
    "                'boosting_type': 'gbdt',\n",
    "                'objective': 'binary',\n",
    "                'metric': 'auc',\n",
    "                'min_child_weight': 5,\n",
    "                'num_leaves': 2 ** 5,\n",
    "                'lambda_l2': 10,\n",
    "                'feature_fraction': 0.8,\n",
    "                'bagging_fraction': 0.8,\n",
    "                'bagging_freq': 4,\n",
    "                'learning_rate': 0.1,\n",
    "                'seed': 2020,\n",
    "                'nthread': 28,\n",
    "                'n_jobs':24,\n",
    "                'verbosity': 1,\n",
    "                'verbose': -1,\n",
    "            }\n",
    "folds = StratifiedKFold(n_splits=5, shuffle=True, random_state=1)\n",
    "valid_lgb = np.zeros(len(x_train))\n",
    "predict_lgb = np.zeros(len(x_test))\n",
    "for fold_, (train_idx,valid_idx) in enumerate(folds.split(x_train, y_train)):\n",
    "    print(\"当前第{}折\".format(fold_ + 1))\n",
    "    train_data_now = lgb.Dataset(x_train.iloc[train_idx], y_train[train_idx])\n",
    "    valid_data_now = lgb.Dataset(x_train.iloc[valid_idx], y_train[valid_idx])\n",
    "    watchlist = [(train_data_now,\"train\"), (valid_data_now, \"valid_data\")]\n",
    "    num_round = 10000\n",
    "    lgb_model = lgb.train(lgb_params, train_data_now, num_round, \n",
    "                        valid_sets=[train_data_now, valid_data_now], verbose_eval=500,\n",
    "                       early_stopping_rounds = 800)\n",
    "    valid_lgb[valid_idx] = lgb_model.predict(lgb.Dataset(x_train.iloc[valid_idx]),\n",
    "                                           ntree_limit = lgb_model.best_iteration)\n",
    "    predict_lgb += lgb_model.predict(lgb.Dataset(x_test), num_iteration=\n",
    "                                           lgb_model.best_iteration) / folds.n_splits\n"
   ]
  },
  {
   "cell_type": "code",
   "execution_count": 21,
   "id": "2610dca3",
   "metadata": {},
   "outputs": [
    {
     "data": {
      "image/png": "[encoded data removed]",
      "text/plain": [
       "<Figure size 1008x2016 with 1 Axes>"
      ]
     },
     "metadata": {
      "needs_background": "light"
     },
     "output_type": "display_data"
    }
   ],
   "source": [
    "pd.set_option(\"display.max_columns\", None)  # 设置可以显示的最大行和最大列\n",
    "pd.set_option('display.max_rows', None)  # 如果超过就显示省略号，none表示不省略\n",
    "#设置value的显示长度为100，默认为50\n",
    "pd.set_option('max_colwidth',100)\n",
    "df = pd.DataFrame(data[features].columns.tolist(), columns=['feature'])\n",
    "df['importance'] = list(lgb_model.feature_importance())\n",
    "df = df.sort_values(by = \"importance\", ascending=False)\n",
    "plt.figure(figsize = (14,28))#指定宽和高\n",
    "sns.barplot(x = 'importance', y = 'feature', data = df.head(50))\n",
    "plt.title('Features importance (averaged/folds)')\n",
    "plt.tight_layout()  # 自动调整适应范围\n"
   ]
  },
  {
   "cell_type": "code",
   "execution_count": null,
   "id": "acc74feb",
   "metadata": {},
   "outputs": [
    {
     "name": "stdout",
     "output_type": "stream",
     "text": [
      "当前第1折\n",
      "[0]\ttrain-auc:0.69258\tvalid_data-auc:0.69102\n",
      "[500]\ttrain-auc:0.73854\tvalid_data-auc:0.72651\n"
     ]
    }
   ],
   "source": [
    "# xgboost模型\n",
    "\n",
    "xgb_params = {'booster': 'gbtree',\n",
    "                      'objective': 'binary:logistic',\n",
    "                      'eval_metric': 'auc',\n",
    "                      'gamma': 1,\n",
    "                      'min_child_weight': 1.5,\n",
    "                      'max_depth': 5,\n",
    "                      'lambda': 10,\n",
    "                      'subsample': 0.7,\n",
    "                      'colsample_bytree': 0.7,\n",
    "                      'colsample_bylevel': 0.7,\n",
    "                      'eta': 0.04,\n",
    "                      'tree_method': 'exact',\n",
    "                      'seed': 1,\n",
    "                      'nthread': 36,\n",
    "                      \"verbosity\": 1,\n",
    "                      }\n",
    "folds = StratifiedKFold(n_splits=5, shuffle=True, random_state=1)\n",
    "valid_xgb = np.zeros(len(x_train))\n",
    "predict_xgb = np.zeros(len(x_test))\n",
    "for fold_, (train_idx,valid_idx) in enumerate(folds.split(x_train, y_train)):\n",
    "    print(\"当前第{}折\".format(fold_ + 1))\n",
    "    train_data_now = xgb.DMatrix(x_train.iloc[train_idx], y_train[train_idx])\n",
    "    valid_data_now = xgb.DMatrix(x_train.iloc[valid_idx], y_train[valid_idx])\n",
    "    watchlist = [(train_data_now,\"train\"), (valid_data_now, \"valid_data\")]\n",
    "    xgb_model = xgb.train(dtrain = train_data_now, num_boost_round = 3000,\n",
    "                         evals = watchlist, early_stopping_rounds = 500,\n",
    "                         verbose_eval = 500, params = xgb_params)\n",
    "    valid_xgb[valid_idx] =xgb_model.predict(xgb.DMatrix(x_train.iloc[valid_idx]),\n",
    "                                           ntree_limit = xgb_model.best_ntree_limit)\n",
    "    predict_xgb += xgb_model.predict(xgb.DMatrix(x_test),ntree_limit \n",
    "                                     = xgb_model.best_ntree_limit) / folds.n_splits\n",
    "   \n"
   ]
  },
  {
   "cell_type": "code",
   "execution_count": null,
   "id": "64fc4013",
   "metadata": {},
   "outputs": [],
   "source": [
    "#逻辑回归\n",
    "# 模型融合\n",
    "train_stack = np.vstack([valid_lgb, valid_xgb]).transpose()\n",
    "test_stack = np.vstack([predict_lgb, predict_xgb]).transpose()\n",
    "folds_stack = RepeatedKFold(n_splits = 5, n_repeats = 2, random_state = 1)\n",
    "valid_stack = np.zeros(train_stack.shape[0])\n",
    "predict_lr2 = np.zeros(test_stack.shape[0])\n",
    "\n",
    "for fold_, (train_idx, valid_idx) in enumerate(folds_stack.split(train_stack, target)):\n",
    "    print(\"当前是第{}折\".format(fold_+1))\n",
    "    train_x_now, train_y_now = train_stack[train_idx], target.iloc[train_idx].values\n",
    "    valid_x_now, valid_y_now = train_stack[valid_idx], target.iloc[valid_idx].values\n",
    "    lr2 = lr()\n",
    "    lr2.fit(train_x_now, train_y_now)\n",
    "    valid_stack[valid_idx] = lr2.predict(valid_x_now)\n",
    "    predict_lr2 += lr2.predict(test_stack) / 10\n",
    "    \n",
    "print(\"score:{:<8.8f}\".format(roc_auc_score(target, valid_stack)))\n"
   ]
  },
  {
   "cell_type": "code",
   "execution_count": null,
   "id": "1d625492",
   "metadata": {},
   "outputs": [],
   "source": [
    "testA = pd.read_csv(\"testA.csv\")\n",
    "testA['isDefault'] = predict_lr2\n",
    "submission_data = testA[['id','isDefault']]\n",
    "submission_data.to_csv(\"myresult.csv\",index = False)\n"
   ]
  },
  {
   "cell_type": "code",
   "execution_count": null,
   "id": "3947bd80",
   "metadata": {},
   "outputs": [],
   "source": []
  }
 ],
 "metadata": {
  "kernelspec": {
   "display_name": "python3",
   "language": "python",
   "name": "python3"
  },
  "language_info": {
   "codemirror_mode": {
    "name": "ipython",
    "version": 3
   },
   "file_extension": ".py",
   "mimetype": "text/x-python",
   "name": "python",
   "nbconvert_exporter": "python",
   "pygments_lexer": "ipython3",
   "version": "3.11.7"
  }
 },
 "nbformat": 4,
 "nbformat_minor": 5
}
